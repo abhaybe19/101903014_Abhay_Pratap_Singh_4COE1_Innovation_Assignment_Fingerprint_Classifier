{
 "cells": [
  {
   "cell_type": "code",
   "execution_count": 1,
   "metadata": {
    "id": "mD5oTTmO6I8G"
   },
   "outputs": [],
   "source": [
    "# Importing Libs\n",
    "from PIL import Image\n",
    "import numpy as np\n",
    "import glob"
   ]
  },
  {
   "cell_type": "code",
   "execution_count": 2,
   "metadata": {
    "id": "lnO7zMQR-OkA"
   },
   "outputs": [],
   "source": [
    "# !unzip ./drive/MyDrive/tutor/Spoof_data.zip "
   ]
  },
  {
   "cell_type": "markdown",
   "metadata": {
    "id": "b0KUS_ArDjl0"
   },
   "source": [
    "### Reading Image data files\n",
    "Reading and processing Image data files into NumPy arrays."
   ]
  },
  {
   "cell_type": "code",
   "execution_count": 3,
   "metadata": {
    "id": "ulhebexu-XSL"
   },
   "outputs": [],
   "source": [
    "# Reading image files\n",
    "X_train = []\n",
    "y_train = []\n",
    "\n",
    "X_test = []\n",
    "y_test = []\n",
    "train_live = glob.glob('Spoof_data/Training Biometrika Live/**/*.png')\n",
    "train_spoof = glob.glob('Spoof_data/Training Biometrika Spoof/**/**/*.png')\n",
    "\n",
    "test_live = glob.glob('Spoof_data/Testing Biometrika Live/**/*.png')\n",
    "test_spoof = glob.glob('Spoof_data/Testing Biometrika Spoof//**/**/*.png')"
   ]
  },
  {
   "cell_type": "code",
   "execution_count": 4,
   "metadata": {
    "id": "hXE2lWnq-efS"
   },
   "outputs": [],
   "source": [
    "# Creating Training Data\n",
    "for img in train_live:\n",
    "    X_train.append(\n",
    "        np.array(Image.open(img))\n",
    "    )\n",
    "    y_train.append(0)\n",
    "\n",
    "for img in train_spoof:\n",
    "    X_train.append(\n",
    "        np.array(Image.open(img))\n",
    "    )\n",
    "    y_train.append(1)\n"
   ]
  },
  {
   "cell_type": "code",
   "execution_count": 5,
   "metadata": {
    "id": "jHzJQpAn-iAe"
   },
   "outputs": [],
   "source": [
    "# Creating Testing Data\n",
    "for img in test_live:\n",
    "    X_test.append(\n",
    "        np.array(Image.open(img))\n",
    "    )\n",
    "    y_test.append(0)\n",
    "\n",
    "for img in test_spoof:\n",
    "    X_test.append(\n",
    "        np.array(Image.open(img))\n",
    "    )\n",
    "    y_test.append(1)\n"
   ]
  },
  {
   "cell_type": "code",
   "execution_count": 6,
   "metadata": {
    "id": "2Wc74i6e-kBf"
   },
   "outputs": [],
   "source": [
    "X_train = np.array(X_train)\n",
    "y_train = np.array(y_train)\n",
    "\n",
    "X_test = np.array(X_test)\n",
    "y_test = np.array(y_test)\n",
    "     "
   ]
  },
  {
   "cell_type": "code",
   "execution_count": null,
   "metadata": {
    "id": "Oq0jw9JXDFU3"
   },
   "outputs": [],
   "source": []
  },
  {
   "cell_type": "markdown",
   "metadata": {
    "id": "loqFODHIDGiN"
   },
   "source": [
    "### Training a CNN Model to Build a Fingerprint classification Model\n",
    "Following code trains a simple CNN model to classify fingerprints as spoof or live."
   ]
  },
  {
   "cell_type": "code",
   "execution_count": 7,
   "metadata": {
    "id": "dV8VEpCY-n-D"
   },
   "outputs": [],
   "source": [
    "import tensorflow as tf\n",
    "\n",
    "from tensorflow.keras import datasets, layers, models\n",
    "import matplotlib.pyplot as plt"
   ]
  },
  {
   "cell_type": "code",
   "execution_count": 8,
   "metadata": {
    "id": "guTFbbPP-tFQ"
   },
   "outputs": [],
   "source": [
    "model = models.Sequential()\n",
    "model.add(layers.Conv2D(64, (3, 3), activation='relu', input_shape=(372, 312, 3)))\n",
    "model.add(layers.MaxPooling2D((2, 2)))\n",
    "model.add(layers.Conv2D(32, (3, 3), activation='relu'))\n",
    "model.add(layers.MaxPooling2D((2, 2)))\n",
    "model.add(layers.Conv2D(32, (3, 3), activation='relu'))"
   ]
  },
  {
   "cell_type": "code",
   "execution_count": 9,
   "metadata": {
    "id": "6o0v1oRg-v7r"
   },
   "outputs": [],
   "source": [
    "model.add(layers.Flatten())\n",
    "model.add(layers.Dense(64, activation='relu'))\n",
    "model.add(layers.Dropout(0.2))\n",
    "model.add(layers.Dense(2))"
   ]
  },
  {
   "cell_type": "code",
   "execution_count": 10,
   "metadata": {
    "colab": {
     "base_uri": "https://localhost:8080/"
    },
    "id": "6iG2JrVM_L46",
    "outputId": "fab01b90-5e2b-4797-ab67-17f5e6cd2424"
   },
   "outputs": [
    {
     "name": "stdout",
     "output_type": "stream",
     "text": [
      "Epoch 1/10\n",
      "13/13 [==============================] - 36s 3s/step - loss: 263.2636 - accuracy: 0.4939 - val_loss: 8.1523 - val_accuracy: 0.5000\n",
      "Epoch 2/10\n",
      "13/13 [==============================] - 37s 3s/step - loss: 2.7028 - accuracy: 0.5381 - val_loss: 0.6785 - val_accuracy: 0.5925\n",
      "Epoch 3/10\n",
      "13/13 [==============================] - 37s 3s/step - loss: 0.6618 - accuracy: 0.5700 - val_loss: 0.6623 - val_accuracy: 0.5575\n",
      "Epoch 4/10\n",
      "13/13 [==============================] - 37s 3s/step - loss: 0.6553 - accuracy: 0.7518 - val_loss: 0.6964 - val_accuracy: 0.5025\n",
      "Epoch 5/10\n",
      "13/13 [==============================] - 38s 3s/step - loss: 0.6379 - accuracy: 0.5160 - val_loss: 0.6139 - val_accuracy: 0.5000\n",
      "Epoch 6/10\n",
      "13/13 [==============================] - 39s 3s/step - loss: 0.5242 - accuracy: 0.5799 - val_loss: 0.5359 - val_accuracy: 0.7900\n",
      "Epoch 7/10\n",
      "13/13 [==============================] - 39s 3s/step - loss: 0.4627 - accuracy: 0.8673 - val_loss: 0.5474 - val_accuracy: 0.7800\n",
      "Epoch 8/10\n",
      "13/13 [==============================] - 39s 3s/step - loss: 0.4113 - accuracy: 0.8845 - val_loss: 0.5946 - val_accuracy: 0.8000\n",
      "Epoch 9/10\n",
      "13/13 [==============================] - 39s 3s/step - loss: 0.3988 - accuracy: 0.9165 - val_loss: 0.7124 - val_accuracy: 0.6475\n",
      "Epoch 10/10\n",
      "13/13 [==============================] - 38s 3s/step - loss: 0.4524 - accuracy: 0.8649 - val_loss: 0.6698 - val_accuracy: 0.6425\n"
     ]
    }
   ],
   "source": [
    "model.compile(optimizer='adam',\n",
    "              loss=tf.keras.losses.SparseCategoricalCrossentropy(from_logits=True),\n",
    "              metrics=['accuracy'])\n",
    "\n",
    "history = model.fit(X_train, y_train, epochs=10, \n",
    "                    validation_data=(X_test, y_test))"
   ]
  },
  {
   "cell_type": "code",
   "execution_count": 11,
   "metadata": {
    "colab": {
     "base_uri": "https://localhost:8080/"
    },
    "id": "gDeX87HP_N3x",
    "outputId": "af8fe42b-ecc6-46f0-ab9d-08f82c3d1981"
   },
   "outputs": [
    {
     "name": "stdout",
     "output_type": "stream",
     "text": [
      "13/13 [==============================] - 6s 499ms/step - loss: 0.6698 - accuracy: 0.6425\n"
     ]
    },
    {
     "data": {
      "text/plain": [
       "[0.6697911620140076, 0.6424999833106995]"
      ]
     },
     "execution_count": 11,
     "metadata": {},
     "output_type": "execute_result"
    }
   ],
   "source": [
    "# Evaluating on Test set\n",
    "model.evaluate(X_test, y_test)"
   ]
  }
 ],
 "metadata": {
  "accelerator": "GPU",
  "colab": {
   "provenance": []
  },
  "gpuClass": "standard",
  "kernelspec": {
   "display_name": "Python 3 (ipykernel)",
   "language": "python",
   "name": "python3"
  },
  "language_info": {
   "codemirror_mode": {
    "name": "ipython",
    "version": 3
   },
   "file_extension": ".py",
   "mimetype": "text/x-python",
   "name": "python",
   "nbconvert_exporter": "python",
   "pygments_lexer": "ipython3",
   "version": "3.9.7"
  }
 },
 "nbformat": 4,
 "nbformat_minor": 1
}
